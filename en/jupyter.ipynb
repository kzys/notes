{
 "cells": [
  {
   "cell_type": "code",
   "execution_count": 1,
   "id": "d6f1d1bf-e0e2-46b9-9a86-6473e4134571",
   "metadata": {},
   "outputs": [],
   "source": [
    "import pandas as pd"
   ]
  },
  {
   "cell_type": "markdown",
   "id": "e99d1f8d-77f2-4b03-b427-eab0219b2e91",
   "metadata": {},
   "source": [
    "hello"
   ]
  },
  {
   "cell_type": "markdown",
   "id": "c60dd69a-ab0b-4494-9f26-9f5202be098d",
   "metadata": {},
   "source": [
    "\n",
    "- <https://blog.8-p.info/en/2018/01/01/hacker-news-2017/>\n",
    "- <https://blog.8-p.info/en/2018/01/08/plotnine-and-bokeh/>\n",
    "- <https://blog.8-p.info/en/2018/01/15/hacker-news-trends/>\n",
    "- <https://blog.8-p.info/en/2018/01/22/plotnine-retina-image/>\n",
    "- <https://blog.8-p.info/en/2018/01/29/git-with-pandas/>\n",
    "- <https://blog.8-p.info/en/2018/02/05/types-of-changes/>\n"
   ]
  },
  {
   "cell_type": "code",
   "execution_count": null,
   "id": "4ceb6992-80ec-42d3-849c-a0398dcb04ef",
   "metadata": {},
   "outputs": [],
   "source": []
  }
 ],
 "metadata": {
  "kernelspec": {
   "display_name": "Python 3 (ipykernel)",
   "language": "python",
   "name": "python3"
  },
  "language_info": {
   "codemirror_mode": {
    "name": "ipython",
    "version": 3
   },
   "file_extension": ".py",
   "mimetype": "text/x-python",
   "name": "python",
   "nbconvert_exporter": "python",
   "pygments_lexer": "ipython3",
   "version": "3.9.12"
  }
 },
 "nbformat": 4,
 "nbformat_minor": 5
}
